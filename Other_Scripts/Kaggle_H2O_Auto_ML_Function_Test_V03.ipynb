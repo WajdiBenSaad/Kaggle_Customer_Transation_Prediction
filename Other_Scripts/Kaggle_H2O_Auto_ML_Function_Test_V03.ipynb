{
 "cells": [
  {
   "cell_type": "markdown",
   "metadata": {},
   "source": [
    "In this workbook, we will not need much of the standard python libraries. H2O library has its own functions and models that are compatible with it."
   ]
  },
  {
   "cell_type": "code",
   "execution_count": null,
   "metadata": {},
   "outputs": [],
   "source": [
    "import h2o\n",
    "from h2o.automl import H2OAutoML\n",
    "import numpy as np  # linear algebra\n",
    "import pandas as pd  #\n",
    "from sklearn.metrics import roc_auc_score\n",
    "import os\n",
    "print(os.listdir(\"../input\"))"
   ]
  },
  {
   "cell_type": "code",
   "execution_count": null,
   "metadata": {},
   "outputs": [],
   "source": [
    "## Init the H2O and getting the data in: \n",
    "h2o.init(max_mem_size='16G')\n",
    "#################\n",
    "htrain = h2o.import_file('../input/train.csv')\n",
    "htest_sub = h2o.import_file('../input/test.csv')\n",
    "\n",
    "htrain = htrain.drop(['ID_code'])\n",
    "htest_sub = htest_sub.drop(['ID_code'])\n",
    "                            \n",
    "x = htrain.columns\n",
    "y = \"target\"\n",
    "x.remove(y)\n",
    "# For binary classification, response should be a factor\n",
    "htrain[y] = htrain[y].asfactor()\n",
    "\n",
    "print(\"Train set size:\", htrain.shape, \"Test set size:\", htest_sub.shape)"
   ]
  },
  {
   "cell_type": "code",
   "execution_count": null,
   "metadata": {},
   "outputs": [],
   "source": [
    "## Setting up our AUTO ML function :\n",
    "folds=5\n",
    "aml = H2OAutoML(seed = 334103, \n",
    "                 max_models=12, # setting the function to test 12 different combinations or models\n",
    "                max_runtime_secs = 31000,  # this parameter serves us well in case the models spend too much time running\n",
    "                stopping_metric = \"AUC\",  # since we have a Yes/No problem, we will need to optimize our AUC metric\n",
    "                nfolds = folds) \n",
    "\n",
    "aml.train(x=x, y=y, training_frame=htrain,)  #training our models\n",
    "\n",
    "# Here we will get a full list of all the tested models, with the different evaluation metrics and predicted parameters\n",
    "lb = aml.leaderboard\n",
    "lb.head(rows=lb.nrows)  # Print all rows instead of default (10 rows)\n",
    "\n"
   ]
  },
  {
   "cell_type": "code",
   "execution_count": null,
   "metadata": {},
   "outputs": [],
   "source": [
    "## Preparing the submission file:\n",
    "\n",
    "sub_pred = aml.leader.predict(htest_sub)\n",
    "sub_pred = sub_pred.as_data_frame()\n",
    "print('predict shape:', sub_pred.shape)\n",
    "\n",
    "sample_submission = pd.read_csv('../input/sample_submission.csv')\n",
    "sample_submission['target'] = sub_pred.p1\n",
    "sample_submission.to_csv('h2o_AutoML_submission_v3.csv', index=False)"
   ]
  }
 ],
 "metadata": {
  "kernelspec": {
   "display_name": "Python 3",
   "language": "python",
   "name": "python3"
  },
  "language_info": {
   "codemirror_mode": {
    "name": "ipython",
    "version": 3
   },
   "file_extension": ".py",
   "mimetype": "text/x-python",
   "name": "python",
   "nbconvert_exporter": "python",
   "pygments_lexer": "ipython3",
   "version": "3.6.5"
  }
 },
 "nbformat": 4,
 "nbformat_minor": 2
}
