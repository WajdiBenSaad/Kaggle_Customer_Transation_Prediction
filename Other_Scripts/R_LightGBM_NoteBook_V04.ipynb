{
 "cells": [
  {
   "cell_type": "code",
   "execution_count": 1,
   "metadata": {
    "_cell_guid": "b1076dfc-b9ad-4769-8c92-a6c4dae69d19",
    "_uuid": "8f2839f25d086af736a60e9eeb907d3b93b6e0e5"
   },
   "outputs": [
    {
     "name": "stderr",
     "output_type": "stream",
     "text": [
      "Loading required package: R6\n",
      "Loading required package: lattice\n",
      "Loading required package: ggplot2\n",
      "\n",
      "Attaching package: ‘caret’\n",
      "\n",
      "The following object is masked from ‘package:httr’:\n",
      "\n",
      "    progress\n",
      "\n"
     ]
    }
   ],
   "source": [
    "library(data.table)\n",
    "library(lightgbm)\n",
    "library(caret)"
   ]
  },
  {
   "cell_type": "code",
   "execution_count": 2,
   "metadata": {},
   "outputs": [],
   "source": [
    "\n",
    "LGB_CV_Predict <- function(lgb_cv, data, num_iteration = NULL, folds=NULL, type=c(\"cv\", \"test\")) {\n",
    "  require(foreach)\n",
    "  if (is.null(num_iteration)) {\n",
    "    num_iteration <- lgb_cv$best_iter\n",
    "  }\n",
    "  if (type==\"cv\"){\n",
    "    print(\"create cross validation predictions\")\n",
    "    pred_mat <- foreach::foreach(i = seq_along(lgb_cv$boosters), .combine = \"c\", .packages=c(\"data.table\",\"lightgbm\")) %do% {\n",
    "      lgb_tree <- lgb_cv$boosters[[i]][[1]]\n",
    "      predict(lgb_tree, \n",
    "              data[folds[[i]],], \n",
    "              num_iteration = num_iteration, \n",
    "              rawscore = FALSE, predleaf = FALSE, header = FALSE, reshape = FALSE)\n",
    "    }\n",
    "    \n",
    "    as.double(pred_mat)[order(unlist(folds))]\n",
    "    \n",
    "  } else if (type==\"test\"){\n",
    "    print(\"create test set predictions\")\n",
    "    pred_mat <- foreach::foreach(i = seq_along(lgb_cv$boosters), .combine = \"+\", .packages=c(\"data.table\",\"lightgbm\")) %do% {\n",
    "      lgb_tree <- lgb_cv$boosters[[i]][[1]]\n",
    "      predict(lgb_tree, \n",
    "              data, \n",
    "              num_iteration = lgb_cv$best_iter, \n",
    "              rawscore = FALSE, predleaf = FALSE, header = FALSE, reshape = FALSE)\n",
    "    }\n",
    "    as.double(pred_mat)/length(lgb_cv$boosters)\n",
    "  }\n",
    "}\n",
    "\n"
   ]
  },
  {
   "cell_type": "code",
   "execution_count": 3,
   "metadata": {},
   "outputs": [],
   "source": [
    "t1 <- fread(\"../input/train.csv\")\n",
    "s1 <- fread(\"../input/test.csv\")\n",
    "t1[,filter:=0]\n",
    "s1[,\":=\"(target=-1,\n",
    "         filter=2)]\n",
    "\n",
    "ts1 <- rbind(t1, s1)\n",
    "set.seed(500)\n",
    "cvFoldsList <- createFolds(ts1[filter==0, target], k=30)\n",
    "\n",
    "varnames <- setdiff(colnames(ts1), c(\"ID_code\",\"target\", \"filter\"))\n",
    "dtrain <- lgb.Dataset(data.matrix(ts1[filter==0,varnames,with=F]), label=ts1[filter==0, target], free_raw_data = FALSE)\n"
   ]
  },
  {
   "cell_type": "code",
   "execution_count": 4,
   "metadata": {},
   "outputs": [],
   "source": [
    "params <- list(objective = \"binary\", \n",
    "               boost=\"gbdt\",\n",
    "               metric=\"auc\",\n",
    "               boost_from_average=\"false\",\n",
    "               num_threads=30,\n",
    "               learning_rate = 0.01,\n",
    "               num_leaves = 11,\n",
    "               max_depth=-1,\n",
    "               tree_learner = \"serial\",\n",
    "               feature_fraction = 0.05,\n",
    "               bagging_freq = 5,\n",
    "               bagging_fraction = 0.3,\n",
    "               min_data_in_leaf = 90,\n",
    "               min_sum_hessian_in_leaf = 10.0,\n",
    "               verbosity = 1)\n",
    "\n"
   ]
  },
  {
   "cell_type": "code",
   "execution_count": 5,
   "metadata": {},
   "outputs": [
    {
     "name": "stdout",
     "output_type": "stream",
     "text": [
      "[1]:\tvalid's auc:0.575009+0.0114029 \n",
      "[3001]:\tvalid's auc:0.894882+0.00624815 \n",
      "[6001]:\tvalid's auc:0.899879+0.00622734 \n",
      "[9001]:\tvalid's auc:0.900646+0.00636565 \n",
      "[12001]:\tvalid's auc:0.90053+0.00637894 \n"
     ]
    },
    {
     "data": {
      "text/plain": [
       "Time difference of 3.295708 hours"
      ]
     },
     "metadata": {},
     "output_type": "display_data"
    }
   ],
   "source": [
    "tme <- Sys.time()\n",
    "lgb1 <- lgb.cv(params,\n",
    "               dtrain,\n",
    "               nrounds=1200000,\n",
    "               folds=cvFoldsList,\n",
    "               early_stopping_rounds = 1900,\n",
    "               eval_freq=3000,\n",
    "               seed=44000)\n",
    "Sys.time() - tme\n",
    "\n"
   ]
  },
  {
   "cell_type": "code",
   "execution_count": 6,
   "metadata": {},
   "outputs": [
    {
     "name": "stderr",
     "output_type": "stream",
     "text": [
      "Loading required package: foreach\n"
     ]
    },
    {
     "name": "stdout",
     "output_type": "stream",
     "text": [
      "[1] \"create test set predictions\"\n"
     ]
    }
   ],
   "source": [
    "test_preds <- LGB_CV_Predict(lgb1, data.matrix(ts1[filter==2, varnames, with=F]), type=\"test\")\n"
   ]
  },
  {
   "cell_type": "code",
   "execution_count": 7,
   "metadata": {},
   "outputs": [],
   "source": [
    "\n",
    "dt <- data.table(ID_code=ts1[filter==2, ID_code], target=test_preds)\n",
    "fwrite(dt, \"./submission.csv\")"
   ]
  }
 ],
 "metadata": {
  "kernelspec": {
   "display_name": "R",
   "language": "R",
   "name": "ir"
  },
  "language_info": {
   "codemirror_mode": "r",
   "file_extension": ".r",
   "mimetype": "text/x-r-source",
   "name": "R",
   "pygments_lexer": "r",
   "version": "3.6.0"
  }
 },
 "nbformat": 4,
 "nbformat_minor": 1
}
